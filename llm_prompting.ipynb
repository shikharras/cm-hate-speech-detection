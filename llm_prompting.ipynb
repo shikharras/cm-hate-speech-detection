{
 "cells": [
  {
   "cell_type": "code",
   "execution_count": 78,
   "metadata": {},
   "outputs": [],
   "source": [
    "import numpy as np\n",
    "import pandas as pd\n",
    "from tqdm import tqdm\n",
    "import together\n",
    "from time import sleep\n",
    "import re\n",
    "from sklearn.metrics import mean_absolute_error\n",
    "import pandas as pd\n",
    "\n",
    "from sklearn.metrics import f1_score"
   ]
  },
  {
   "cell_type": "code",
   "execution_count": 11,
   "metadata": {},
   "outputs": [],
   "source": [
    "def dprint(s, debug):\n",
    "    if debug:\n",
    "        print(s)"
   ]
  },
  {
   "cell_type": "code",
   "execution_count": 12,
   "metadata": {},
   "outputs": [],
   "source": [
    "# TODO: find your API key here\n",
    "# https://api.together.xyz/settings/api-keys\n",
    "YOUR_API_KEY = '5a70c1d03697cbf9d7a2c4595ffa8f892bc25311ee89de4dceda77eefb228a84'\n",
    "together.api_key = YOUR_API_KEY\n",
    "\n",
    "def call_together_api(prompt, student_configs, pre_processing, post_processing, model='togethercomputer/llama-2-70b', debug=False):\n",
    "    prompt = pre_processing(prompt)\n",
    "    output = together.Complete.create(\n",
    "    prompt = prompt,\n",
    "    model = model, \n",
    "    **student_configs\n",
    "    )\n",
    "    dprint('*****prompt*****', debug)\n",
    "    dprint(prompt, debug)\n",
    "    dprint('*****result*****', debug)\n",
    "    res = output['output']['choices'][0]['text']\n",
    "    dprint(res, debug)\n",
    "    dprint('*****output*****', debug)\n",
    "    labels_only = post_processing(res)\n",
    "    dprint('POST PROCESSED', debug)\n",
    "    dprint(labels_only, debug)\n",
    "    dprint('=========', debug)\n",
    "    return labels_only"
   ]
  },
  {
   "cell_type": "code",
   "execution_count": 13,
   "metadata": {},
   "outputs": [],
   "source": [
    "model_names = [\n",
    "    'togethercomputer/llama-2-7b', #LLaMa-2-7B\n",
    "    'togethercomputer/llama-2-13b', #LLaMa-2-13B\n",
    "    'togethercomputer/llama-2-70b', #LLaMa-2-70B\n",
    "    'togethercomputer/llama-2-70b-chat', #LLaMa-2-70B-Chat\n",
    "    \n",
    "]"
   ]
  },
  {
   "cell_type": "code",
   "execution_count": 71,
   "metadata": {},
   "outputs": [],
   "source": [
    "def get_train_df(topn = 10):\n",
    "    train_df = pd.read_csv('./data/splits/train.csv')\n",
    "    return train_df[:topn]\n"
   ]
  },
  {
   "cell_type": "code",
   "execution_count": 14,
   "metadata": {},
   "outputs": [],
   "source": [
    "def get_test_set():\n",
    "    test_df = pd.read_csv('./data/splits/test.csv')\n",
    "    return test_df\n",
    "    "
   ]
  },
  {
   "cell_type": "code",
   "execution_count": 15,
   "metadata": {},
   "outputs": [],
   "source": [
    "def get_eval_df(topn = 5):\n",
    "    eval_df = pd.read_csv('./data/splits/val.csv')\n",
    "    return eval_df.sample(topn)\n",
    "    "
   ]
  },
  {
   "attachments": {},
   "cell_type": "markdown",
   "metadata": {},
   "source": [
    "## Zero Shot Prompt"
   ]
  },
  {
   "cell_type": "code",
   "execution_count": 74,
   "metadata": {},
   "outputs": [],
   "source": [
    "prompt_prefix_zs = \\\n",
    "'''Offensive speech focuses on the potentially hurtful effect of the tweet content on a given target. This category of text often contains offensive words such as sarcastic remarks, insults, slanders, and slurs.\n",
    "Based on above definition, classify the following Hinglish tweet into offensive speech or not. \n",
    "Your output should only be either \"OFF\" for offensive, or \"NOT\" for not offensive.\n",
    "'''\n",
    "prompt_examples_zs = \"Input Tweet: \"\n",
    "prompt_suffix_zs = \"Output: \"\n"
   ]
  },
  {
   "cell_type": "code",
   "execution_count": 75,
   "metadata": {},
   "outputs": [],
   "source": [
    "# input_string: '@user tweet'\n",
    "def your_pre_processing_zs(input_string):\n",
    "    return re.sub(r\"@user\",\"\", input_string).strip()\n",
    "\n",
    "def your_post_processing_zs(output_string):\n",
    "    # using regular expression to find the first consecutive digits in the returned string\n",
    "    if output_string.strip().lower()[:3]=='off':\n",
    "        return 1\n",
    "    else:\n",
    "        return 0"
   ]
  },
  {
   "cell_type": "code",
   "execution_count": 76,
   "metadata": {},
   "outputs": [],
   "source": [
    "def test_range(df, prompt_configs, prompt_prefix, examples, prompt_suffix,\n",
    "               pre_processing=lambda x:x, post_processing=lambda y:y,\n",
    "               model='togethercomputer/llama-2-70b', debug=False):\n",
    "    tweet_idx = []\n",
    "    answers = []\n",
    "    model_responses = []\n",
    "    corrected_model_responses = []\n",
    "    tweet_txt_list = []\n",
    "    ap_text = \"\"\n",
    "    for idx, row in tqdm(df.iterrows()):\n",
    "        tweet_idx.append(row['id'])\n",
    "        fixed_prompt = row['tweet_text'] + \"\\n\"\n",
    "        tweet_txt_list.append(row['tweet_text'])\n",
    "        fixed_prompt = pre_processing(fixed_prompt)\n",
    "        prompt = prompt_prefix + examples + fixed_prompt + prompt_suffix\n",
    "        answer = row['offense']\n",
    "        answers.append(answer)\n",
    "        model_response = call_together_api(prompt, prompt_configs, pre_processing, lambda y:y, model=model, debug=debug)\n",
    "        corrected_model_response = post_processing(model_response)\n",
    "        corrected_model_responses.append(corrected_model_response)\n",
    "        model_responses.append(model_response)\n",
    "        sleep(1)\n",
    "    df = pd.DataFrame({'tweet_idx': tweet_idx, 'tweet_text': tweet_txt_list, 'model_responses': model_responses, 'corrected_model_responses':corrected_model_responses, 'offense': answers})\n",
    "    return df"
   ]
  },
  {
   "cell_type": "code",
   "execution_count": 77,
   "metadata": {},
   "outputs": [
    {
     "name": "stdout",
     "output_type": "stream",
     "text": [
      "togethercomputer/llama-2-70b-chat\n"
     ]
    }
   ],
   "source": [
    "prompt_config_zs = {'max_tokens': 3,\n",
    "                'temperature': 0.4,\n",
    "                'top_k': 50,\n",
    "                'top_p': 0.7,\n",
    "                'repetition_penalty': 1,\n",
    "                'stop': []}\n",
    "\n",
    "model = 'togethercomputer/llama-2-70b-chat'\n",
    "print(model)\n",
    "\n",
    "eval_df = get_eval_df(50)"
   ]
  },
  {
   "cell_type": "code",
   "execution_count": 61,
   "metadata": {},
   "outputs": [
    {
     "name": "stderr",
     "output_type": "stream",
     "text": [
      "50it [01:25,  1.72s/it]"
     ]
    },
    {
     "name": "stdout",
     "output_type": "stream",
     "text": [
      "    tweet_idx                                         tweet_text  \\\n",
      "0         632  #Demonetisation A dream of many executed by #M...   \n",
      "1      178287  @user Aren't honourable Judges aware about pre...   \n",
      "2       79887  @user Muslims harassing Hindus in UK, USA and ...   \n",
      "3        1062  @user Where are when 2015 floods  came …..when...   \n",
      "4       34391  INDIAN ARMY CARRIES OUT LARGE FIELD TRAINING E...   \n",
      "5       65790  is covid-19 still a thing of have they deemed ...   \n",
      "6      169445  Cricket gods should honour and bless Sikander ...   \n",
      "7       26597  @user @user Your tweet wasn't worded properly ...   \n",
      "8       15249  @user @user @user You're just flat wrong about...   \n",
      "9       75929  @user @user Yes, but the data says whole hindi...   \n",
      "10      59974  @user Comparison is lame. Biden reduced defici...   \n",
      "11     181862  @user @user \\nIt's a mockery of the system!\\nA...   \n",
      "12      30342  @user Big salute no sir  \\nBig big salute Indi...   \n",
      "13     213424  @user In 1966, Golwalkar, in his book titled B...   \n",
      "14     142273  Maybe my tweets are not liked today but in fut...   \n",
      "15      22793  @user @user @user I wear 'secularism ka tilak' 😌😌   \n",
      "16     124690  @user These girls deserve this because when pe...   \n",
      "17     116398    @user Try it and thank me later\\nMunci a SBRS😂😂   \n",
      "18      49958  60 startups registered with #ISRO since unlock...   \n",
      "19     197440  @user @user @user Note pe to Gandhiji bhi bane...   \n",
      "20     192426  @user Congress is not a political party.. It i...   \n",
      "21     188771  @user @user @user Indira Gandhi imposed an eme...   \n",
      "22      45499  @user @user @user @user @user Compare the numb...   \n",
      "23       1158  @user Indians should not laugh at this. Demone...   \n",
      "24        290  @user @user @user @user @user Not sure if you’...   \n",
      "25      34353  @user If I remember right , Pakistani media us...   \n",
      "26     165124  @user @user @user @user @user Sports authoriti...   \n",
      "27      45580  .......through his foundation, in collaboratio...   \n",
      "28     208740  @user Gandhi and Nehru se nafrat hay..\\nModiji...   \n",
      "29      75920                               @user Is she dalit??   \n",
      "30     154932  @user Rakesh tikait the terrorist of India.\\nI...   \n",
      "31      22804  @user Agreed, deliberate diversion. India neve...   \n",
      "32     178313  @user @user 😂🤣 5/6 judges' here and there will...   \n",
      "33     124486  @user Also in the Lataji case, there was no ne...   \n",
      "34     181802  @user He will have access to medical treatment...   \n",
      "35     159896  @user लगता है सरकार कोई है ही नही...इसपे UAPA ...   \n",
      "36        568  @user Amazing! What about the pending cases wi...   \n",
      "37     165490  Announcing equal pay for both men and women in...   \n",
      "38     159840  SG makes an intervention: This request of hous...   \n",
      "39      71673                        @user देश की  उम्मीद  @user   \n",
      "40        448  @user Go to any doctors or lawyers, they charg...   \n",
      "41      59932  Today, Louisville Elementary School went into ...   \n",
      "42     129857  #Gujarat | Union Home and Cooperation Minister...   \n",
      "43        892  @user Let's first talk about what Indian Gover...   \n",
      "44     133908  @user Yes, well, you’re a Marxist. You may not...   \n",
      "45       3808  @user @user So, you’re saying because people i...   \n",
      "46     164836  Pakistan fans will definitely be praying for I...   \n",
      "47     186613  @user Jo bharose Wale emergency lagye hai wo k...   \n",
      "48      30326  @user @user @user @user @user @user @user @use...   \n",
      "49      17529  #MaritalRape indian supreme court is going to ...   \n",
      "\n",
      "   model_responses  corrected_model_responses  offense  \n",
      "0              NOT                          0        0  \n",
      "1              NOT                          0        1  \n",
      "2             \\n\\n                          0        0  \n",
      "3              NOT                          0        0  \n",
      "4          NOT\\n\\n                          0        0  \n",
      "5              OFF                          1        0  \n",
      "6             \\n\\n                          0        0  \n",
      "7       \\n\\nPlease                          0        0  \n",
      "8          \\n\\nOFF                          0        0  \n",
      "9                                           0        0  \n",
      "10                                          0        0  \n",
      "11          \\n\\n\\n                          0        1  \n",
      "12           \\nOFF                          0        0  \n",
      "13             NOT                          0        1  \n",
      "14             NOT                          0        1  \n",
      "15                                          0        0  \n",
      "16                                          0        1  \n",
      "17           \\n\\nI                          0        1  \n",
      "18             NOT                          0        0  \n",
      "19         NOT\\n\\n                          0        1  \n",
      "20      \\n\\nPlease                          0        1  \n",
      "21                                          0        0  \n",
      "22             NOT                          0        0  \n",
      "23          \\n\\n\\n                          0        0  \n",
      "24        \\n\\nYour                          0        0  \n",
      "25            \\n\\n                          0        0  \n",
      "26             NOT                          0        0  \n",
      "27             NOT                          0        0  \n",
      "28      \\n\\nPlease                          0        0  \n",
      "29        \\n\\nNote                          0        0  \n",
      "30                                          0        1  \n",
      "31           \\n\\nA                          0        0  \n",
      "32                                          0        1  \n",
      "33             NOT                          0        1  \n",
      "34           \\n\\nI                          0        0  \n",
      "35             NOT                          0        1  \n",
      "36             NOT                          0        1  \n",
      "37            \\n\\n                          0        0  \n",
      "38             OFF                          1        0  \n",
      "39             NOT                          0        0  \n",
      "40             OFF                          1        0  \n",
      "41             NOT                          0        0  \n",
      "42             NOT                          0        0  \n",
      "43        \\n\\nNote                          0        1  \n",
      "44         \\n\\nOFF                          0        1  \n",
      "45         \\n\\nOFF                          0        0  \n",
      "46                                          0        0  \n",
      "47      \\n\\nPlease                          0        1  \n",
      "48             NOT                          0        0  \n",
      "49         \\n\\nOFF                          0        1  \n"
     ]
    },
    {
     "name": "stderr",
     "output_type": "stream",
     "text": [
      "\n"
     ]
    }
   ],
   "source": [
    "results_df = test_range(eval_df, prompt_config_zs, prompt_examples_zs, prompt_prefix_zs, prompt_suffix_zs, pre_processing=your_pre_processing_zs, post_processing=your_post_processing_zs, model=model, debug=False)\n",
    "print(results_df)"
   ]
  },
  {
   "cell_type": "code",
   "execution_count": 79,
   "metadata": {},
   "outputs": [
    {
     "data": {
      "text/plain": [
       "29"
      ]
     },
     "execution_count": 79,
     "metadata": {},
     "output_type": "execute_result"
    }
   ],
   "source": [
    "sum(results_df['corrected_model_responses']==results_df['offense'].values)"
   ]
  },
  {
   "cell_type": "code",
   "execution_count": 80,
   "metadata": {},
   "outputs": [
    {
     "data": {
      "text/plain": [
       "0.15999999999999998"
      ]
     },
     "execution_count": 80,
     "metadata": {},
     "output_type": "execute_result"
    }
   ],
   "source": [
    "f1_score(results_df['offense'], results_df['corrected_model_responses'])"
   ]
  },
  {
   "attachments": {},
   "cell_type": "markdown",
   "metadata": {},
   "source": [
    "## Few Shot Prompting (In Context Learning)\n",
    "Useful to fix output format"
   ]
  },
  {
   "cell_type": "code",
   "execution_count": 137,
   "metadata": {},
   "outputs": [],
   "source": [
    "train_df = get_train_df(40)"
   ]
  },
  {
   "cell_type": "code",
   "execution_count": 141,
   "metadata": {},
   "outputs": [],
   "source": [
    "def create_example(row):\n",
    "    line1 = \"Input Tweet: \" + row['tweet_text'] + \"\\n\"\n",
    "    label = 'OFF' if row['offense']==1 else 'NOT'\n",
    "    line2 = \"Output: \" + label + \"\\n\"\n",
    "    return line1+line2\n"
   ]
  },
  {
   "cell_type": "code",
   "execution_count": 142,
   "metadata": {},
   "outputs": [],
   "source": [
    "prompt_examples_icl = \"\"\n",
    "for idx,row in train_df.iterrows():\n",
    "    ex = create_example(row)\n",
    "    prompt_examples_icl += ex"
   ]
  },
  {
   "cell_type": "code",
   "execution_count": 143,
   "metadata": {},
   "outputs": [],
   "source": [
    "prompt_examples_icl = prompt_examples_icl + \"Input Tweet: \""
   ]
  },
  {
   "cell_type": "code",
   "execution_count": 144,
   "metadata": {},
   "outputs": [],
   "source": [
    "prompt_prefix_icl = \\\n",
    "'''Offensive speech focuses on the potentially hurtful effect of the tweet content on a given target. This category of text often contains offensive words such as sarcastic remarks, insults, slanders, and slurs.\n",
    "Based on above definition, classify the following Hinglish tweet into offensive speech or not. Your output should only be either \"OFF\" for offensive, or \"NOT\" for not offensive like in the examples below.\n",
    "'''\n",
    "\n",
    "\n",
    "\n",
    "prompt_suffix_icl = \"Output: \"\n"
   ]
  },
  {
   "cell_type": "code",
   "execution_count": 145,
   "metadata": {},
   "outputs": [
    {
     "name": "stderr",
     "output_type": "stream",
     "text": [
      "50it [01:37,  1.94s/it]"
     ]
    },
    {
     "name": "stdout",
     "output_type": "stream",
     "text": [
      "    tweet_idx                                         tweet_text  \\\n",
      "0         789  Petitioners who have challenged Centre’s 2016 ...   \n",
      "1      213518  Golwalkar as the most important ideologue of t...   \n",
      "2       11259  @user @user @user @user breastfeeding and havi...   \n",
      "3        3965  Initial indications from the third quarter sur...   \n",
      "4      202203  @user Similar to when Hindus of India cheered ...   \n",
      "5         332  @user @user @user @user I am all for technical...   \n",
      "6      168732  @user @user @user Lol rcb v csk is not even ri...   \n",
      "7      213223  @user @user Tariq tell us ,you are against Gol...   \n",
      "8       75891  @user यादव को pvt charter plane में उड़ते देख ...   \n",
      "9       17463  @user Whether the Mianlords apply this #Marita...   \n",
      "10      71559  @user @user @user Every UC who hires is pained...   \n",
      "11     185291  @user \"tackle the climate emergency\"\\n\\nThere ...   \n",
      "12     164874  @user 's recent announcement has taken EQUAL P...   \n",
      "13      75941  @user @user And yet they are not allowed to ea...   \n",
      "14     181783  @user We have to seriously work for all undert...   \n",
      "15      59967          @user yeah i’m considering leaking it all   \n",
      "16      41722  @user @user @user @user @user @user Lynching i...   \n",
      "17     188733  @user @user Nehru is a born Muslim , kept pand...   \n",
      "18      48420  @user My idea is not available all country the...   \n",
      "19     120523                  @user Kab aana hai ? # Gharwapasi   \n",
      "20     185207  But I do have one emergency solution that I ca...   \n",
      "21     202302  @user this fake narrative that he and MkG are ...   \n",
      "22      22804  @user Agreed, deliberate diversion. India neve...   \n",
      "23      15354  @user And all that you said is correct but sti...   \n",
      "24     116211  @user These Boston hijab politicians are out o...   \n",
      "25      75918  @user @user @user @user Agree. There is no \"ma...   \n",
      "26     165510  @user @user @user What about tennis ball crick...   \n",
      "27     169369  @user Then give us our #POK back and we'll giv...   \n",
      "28     181844  The single largest collection of rogues, loote...   \n",
      "29      80001  @user @user No they are not. By Muslim they me...   \n",
      "30      71638  My most favourite moronic comment on my last t...   \n",
      "31     160009  Human rights defender Prof. G.N. Saibaba is ac...   \n",
      "32      71730  @user @user @user How is your brownie points g...   \n",
      "33     197556  @user @user Madam Gandhi doesn't suits u \\nYog...   \n",
      "34     181723  @user So what was CBI doing? Blessing his esca...   \n",
      "35      79854  @user Banning crackers in delhi should be a bi...   \n",
      "36     169166  @user Your players are not part of IPL toh wo ...   \n",
      "37      79852  @user Tell him you are a muslim. He won't obje...   \n",
      "38     181772  @user Crimes are punished only in mere 6% of c...   \n",
      "39     210388  @user @user @user @user Kaash ke Sardar Patel ...   \n",
      "40     160012  @user @user Bhai agar yaha musalman hota to UA...   \n",
      "41      22868  @user @user @user @user Yes sure. You can do t...   \n",
      "42      41859  @user ...genesis of the matter, you will mista...   \n",
      "43     120458  1 ) Do ghar wapasi ...\\n2 ) give those child f...   \n",
      "44      50089  As this ways may count under Ex POI Community ...   \n",
      "45     160093  Pandu Narote was an agricultural worker. He wa...   \n",
      "46     165133  It's very bad decision by @user to organised #...   \n",
      "47     129711  सभी सक्रिय साथी लिखे!\\n@user\\n@user  @\\n#Stop_...   \n",
      "48       1254  Did you know that \"Ranga-Billa\" was a rapist?\\...   \n",
      "49        845  Chidambaram: 1978 demonetisation was by a sepa...   \n",
      "\n",
      "   model_responses  corrected_model_responses  offense  \n",
      "0              NOT                          0        0  \n",
      "1              OFF                          1        1  \n",
      "2            OFF\\n                          1        0  \n",
      "3              NOT                          0        0  \n",
      "4            OFF\\n                          1        0  \n",
      "5              OFF                          1        0  \n",
      "6            OFF\\n                          1        0  \n",
      "7              OFF                          1        0  \n",
      "8              OFF                          1        1  \n",
      "9              OFF                          1        1  \n",
      "10             OFF                          1        0  \n",
      "11      NOT\\nInput                          0        0  \n",
      "12           OFF\\n                          1        0  \n",
      "13             OFF                          1        0  \n",
      "14      NOT\\nInput                          0        0  \n",
      "15             OFF                          1        0  \n",
      "16           OFF\\n                          1        0  \n",
      "17             OFF                          1        1  \n",
      "18             NOT                          0        0  \n",
      "19           OFF\\n                          1        1  \n",
      "20           OFF\\n                          1        0  \n",
      "21             OFF                          1        0  \n",
      "22           OFF\\n                          1        0  \n",
      "23           OFF\\n                          1        0  \n",
      "24           OFF\\n                          1        0  \n",
      "25           OFF\\n                          1        0  \n",
      "26             OFF                          1        0  \n",
      "27           OFF\\n                          1        0  \n",
      "28           OFF\\n                          1        1  \n",
      "29           OFF\\n                          1        0  \n",
      "30           OFF\\n                          1        0  \n",
      "31             OFF                          1        0  \n",
      "32             OFF                          1        0  \n",
      "33           OFF\\n                          1        1  \n",
      "34             OFF                          1        1  \n",
      "35           OFF\\n                          1        0  \n",
      "36           OFF\\n                          1        0  \n",
      "37             OFF                          1        0  \n",
      "38      NOT\\nInput                          0        0  \n",
      "39             OFF                          1        1  \n",
      "40             OFF                          1        0  \n",
      "41      NOT\\nInput                          0        0  \n",
      "42             OFF                          1        0  \n",
      "43           OFF\\n                          1        1  \n",
      "44           OFF\\n                          1        1  \n",
      "45         NOT\\n\\n                          0        0  \n",
      "46           OFF\\n                          1        0  \n",
      "47             OFF                          1        0  \n",
      "48             OFF                          1        1  \n",
      "49           OFF\\n                          1        0  \n"
     ]
    },
    {
     "name": "stderr",
     "output_type": "stream",
     "text": [
      "\n"
     ]
    }
   ],
   "source": [
    "results_df = test_range(eval_df, prompt_config_zs, prompt_examples_icl, prompt_prefix_icl, prompt_suffix_icl, pre_processing=your_pre_processing_zs, post_processing=your_post_processing_zs, model=model, debug=False)\n",
    "print(results_df)"
   ]
  },
  {
   "cell_type": "code",
   "execution_count": 146,
   "metadata": {},
   "outputs": [
    {
     "data": {
      "text/plain": [
       "0.4444444444444445"
      ]
     },
     "execution_count": 146,
     "metadata": {},
     "output_type": "execute_result"
    }
   ],
   "source": [
    "f1_score(results_df['offense'], results_df['corrected_model_responses'])"
   ]
  },
  {
   "attachments": {},
   "cell_type": "markdown",
   "metadata": {},
   "source": [
    "## Chain of Thought Prompting"
   ]
  },
  {
   "cell_type": "code",
   "execution_count": 155,
   "metadata": {},
   "outputs": [],
   "source": [
    "off_tweets = [\n",
    "\"Ho skta h kuch baudh to teri tarah dogle bhi nhi hote..balki bahut hmare sc ya dalit bhai hmare sath mandiro me jate h khub dharm ko mante hai snatan me viswas krte h..or kuch gaddar meem walo ka gana gate hai..wo acha h lekin jo tum kar rhe ho wo ghtiya h..jai meem bol ab\",\n",
    "\"Kab aana hai ? # Gharwapasi\",\n",
    "\"Haa...Ab Umpire Bhi IPL khelega Chutiya Sala Fixer.\"]"
   ]
  },
  {
   "cell_type": "code",
   "execution_count": 156,
   "metadata": {},
   "outputs": [],
   "source": [
    "justification_off_tweets = [\"This tweet is offensive because it is insulting in nature\", \"This tweet is offensive due to the the context of Ghar Wapasi which involves religious conversions\", \"This tweet is offensive as it insults the umpire and uses cuss words.\"]"
   ]
  },
  {
   "cell_type": "code",
   "execution_count": 157,
   "metadata": {},
   "outputs": [],
   "source": [
    "non_off_tweets = [\"I don't understand why ppl take law in hands...agar chor tha toh police complaint hone thee...bekar me moka diya jata h ke dalit exploitation ho raha h...\", \"I have of hindus crimes data agints dalit u hater.\\\n",
    "Dalit hater community.\\\n",
    "Do u have data to prove me otherwise and provide data for muslim crime against hindu\", \"#demonetisation  .. mention bigger scam than this 😂😂\"]"
   ]
  },
  {
   "cell_type": "code",
   "execution_count": 158,
   "metadata": {},
   "outputs": [],
   "source": [
    "justification_non_off_tweets = [\"This tweet is not offensive as it is against lynching of individuals\", \"This tweet is not offensive as it just asks for more data\", \"This tweet is not offensive as it criticizes a government policy which is allowed in a healthy democracy\"]"
   ]
  },
  {
   "cell_type": "code",
   "execution_count": 163,
   "metadata": {},
   "outputs": [],
   "source": [
    "def create_examples(off_tweets, justification_off_tweets, non_off_tweets, justification_non_off_tweets):\n",
    "    examples = \"\"\n",
    "    for i in range(len(off_tweets)):\n",
    "        line1 = \"Input Tweet: \" + off_tweets[i] + \"\\n\"\n",
    "        justification_off = \"Justification: \" + justification_off_tweets[i] + \"\\n\"\n",
    "        line2 = \"Output: \" + 'OFF' + \"\\n\"\n",
    "        line3 = \"Input Tweet: \" + non_off_tweets[i] + \"\\n\"\n",
    "        justification_not = \"Justification: \" + justification_non_off_tweets[i] + \"\\n\"\n",
    "        line4 = \"Output: \" + 'NOT' + \"\\n\"\n",
    "        set = line1 + justification_off + line2 + line3 + justification_not + line4\n",
    "        examples+=set\n",
    "    \n",
    "    return examples\n"
   ]
  },
  {
   "cell_type": "code",
   "execution_count": 166,
   "metadata": {},
   "outputs": [],
   "source": [
    "prompt_examples_cot = create_examples(off_tweets, justification_off_tweets, non_off_tweets, justification_non_off_tweets) + \"Input Tweet: \""
   ]
  },
  {
   "cell_type": "code",
   "execution_count": 167,
   "metadata": {},
   "outputs": [],
   "source": [
    "prompt_prefix_cot = \\\n",
    "'''Offensive speech focuses on the potentially hurtful effect of the tweet content on a given target. This category of text often contains offensive words such as sarcastic remarks, insults, slanders, and slurs.\n",
    "Based on above definition, classify the following Hinglish tweet into offensive speech or not. Your output should be a only be either \"OFF\" for offensive, or \"NOT\" for not offensive along with a justification for your output like in the examples below.\n",
    "'''\n",
    "\n",
    "\n",
    "\n",
    "prompt_suffix_cot = \"Justification: \""
   ]
  },
  {
   "cell_type": "code",
   "execution_count": 173,
   "metadata": {},
   "outputs": [
    {
     "data": {
      "text/plain": [
       "6"
      ]
     },
     "execution_count": 173,
     "metadata": {},
     "output_type": "execute_result"
    }
   ],
   "source": [
    "\"asdka Output: OFF, Output: \".find(\"Output\")"
   ]
  },
  {
   "cell_type": "code",
   "execution_count": 195,
   "metadata": {},
   "outputs": [],
   "source": [
    "# input_string: '@user tweet'\n",
    "def your_pre_processing_cot(input_string):\n",
    "    return re.sub(r\"@user\",\"\", input_string).strip()\n",
    "\n",
    "def your_post_processing_cot(output_string):\n",
    "    # using regular expression to find the first consecutive digits in the returned string\n",
    "    if output_string.find(\"not offensive\")!=-1:\n",
    "        return 0\n",
    "    else:\n",
    "        return 1"
   ]
  },
  {
   "cell_type": "code",
   "execution_count": 188,
   "metadata": {},
   "outputs": [
    {
     "name": "stdout",
     "output_type": "stream",
     "text": [
      "togethercomputer/llama-2-70b-chat\n"
     ]
    }
   ],
   "source": [
    "prompt_config_cot = {'max_tokens': 30,\n",
    "                'temperature': 0.4,\n",
    "                'top_k': 50,\n",
    "                'top_p': 0.7,\n",
    "                'repetition_penalty': 1,\n",
    "                'stop': []}\n",
    "\n",
    "model = 'togethercomputer/llama-2-70b-chat'\n",
    "print(model)\n",
    "\n",
    "eval_df = get_eval_df(50)"
   ]
  },
  {
   "cell_type": "code",
   "execution_count": 189,
   "metadata": {},
   "outputs": [
    {
     "name": "stderr",
     "output_type": "stream",
     "text": [
      "50it [01:44,  2.08s/it]"
     ]
    },
    {
     "name": "stdout",
     "output_type": "stream",
     "text": [
      "    tweet_idx                                         tweet_text  \\\n",
      "0      129735  Speak loudly ✊\\n\\n#GGTU_से_वैदिक_कोर्स_हटाओ\\n#...   \n",
      "1         297  @user Did BJP draft Article 370. Demonetisatio...   \n",
      "2      178470  @user Have you done any report on lakhs of und...   \n",
      "3      160124  UAPA/NSA मुसलमानों के लिए-\\nसेडिशन/टाडा मुसलमा...   \n",
      "4      185207  But I do have one emergency solution that I ca...   \n",
      "5       34260  @user @user @user @user @user @user @user @use...   \n",
      "6        7624  @user Joe just said another lie.  Joe lies is ...   \n",
      "7      120494                        @user @user Ghar wapasi hai   \n",
      "8      159840  SG makes an intervention: This request of hous...   \n",
      "9      168975  @user Bhai tu apani neutral Game khel yaar tuk...   \n",
      "10       1065  @user @user @user How much was your loss, due ...   \n",
      "11        553  @user  Respected Sir, \\nThank you for pleading...   \n",
      "12     159861  Basant: My problem is, I'll take the court int...   \n",
      "13      59867                              @user @user Lockdown?   \n",
      "14        896  @user @user IMO\\nDemonetisation might be the l...   \n",
      "15      45535  Worldwide,2.2 billion people still lack access...   \n",
      "16     181879  @user @user It's even reported that poor peopl...   \n",
      "17      65718  @user TDS is a more serious epidemic for the D...   \n",
      "18     159994  @user @user Central govt whether under UPA or ...   \n",
      "19     168960  @user Haa...Ab Umpire Bhi IPL khelega Chutiya ...   \n",
      "20     213112  @user @user @user So was that caveat added to ...   \n",
      "21     120474  @user Aap Dharm Parivartan kyon nikal lete Gha...   \n",
      "22      59928  @user @user @user @user I was never furloughed...   \n",
      "23     181856  Mitron, help me out here: I doubt convicted, i...   \n",
      "24      22849                                        @user 😂😂🤲🤲🤲   \n",
      "25      41662  @user Front row seats to the lynching on Satur...   \n",
      "26     202386  @user I think you are all living in the dream ...   \n",
      "27       1158  @user Indians should not laugh at this. Demone...   \n",
      "28      79972  @user @user @user @user @user Only muslims are...   \n",
      "29     155095  @user  #CNBC_AWAAZ Excellent discussion on Far...   \n",
      "30     116414  @user @user Why cant we exchange our so called...   \n",
      "31       7665  @user I thought he said there wasn't inflation...   \n",
      "32     202375  @user Dear @user  please dont allow political ...   \n",
      "33     213258  @user RSS/BJP getting ready to implement the R...   \n",
      "34     210388  @user @user @user @user Kaash ke Sardar Patel ...   \n",
      "35      15354  @user And all that you said is correct but sti...   \n",
      "36     188806  @user Indira Gandhi's surname was khan after m...   \n",
      "37      60034  @user The associated press is actively partipa...   \n",
      "38     120312  @user @user मुसलमानों को पुनः हिंदू धर्म में घ...   \n",
      "39      34348  …we have Freedom I will fight in the Indian Ar...   \n",
      "40       7715  @user Just look around the World, our inflatio...   \n",
      "41       7685  Nigeria's annual inflation rate hit a fresh 17...   \n",
      "42     124654  @user This is pretty common and might have hap...   \n",
      "43     159908  @user Sir at least few are convicted. We need ...   \n",
      "44      30201  4 Points\\n\\n-&gt;Bumper production need not sy...   \n",
      "45     181791  Adv. Abdul Ariff, on #NIA Bill:\\n\\n-Claims tha...   \n",
      "46     120272  @user Ghar wapasi to which caste. Solve castei...   \n",
      "47      71619  @user Chori karne wale ko Veer chakra se samma...   \n",
      "48     120236  @user @user @user @user After lot of drama, tr...   \n",
      "49      79887  @user Muslims harassing Hindus in UK, USA and ...   \n",
      "\n",
      "                                      model_responses  \\\n",
      "0   This tweet is not offensive as it is advocatin...   \n",
      "1   This tweet is offensive because it is insultin...   \n",
      "2   This tweet is not offensive as it asks for mor...   \n",
      "3   This tweet is offensive because it targets Mus...   \n",
      "4   This tweet is not offensive as it just talks a...   \n",
      "5   This tweet is not offensive as it congratulate...   \n",
      "6   This tweet is not offensive as it criticizes a...   \n",
      "7   This tweet is offensive because it is promotin...   \n",
      "8   This tweet is offensive because it uses the te...   \n",
      "9   This tweet is offensive because it is insultin...   \n",
      "10  This tweet is offensive as it targets a partic...   \n",
      "11  This tweet is not offensive as it is a genuine...   \n",
      "12  This tweet is not offensive as it is a factual...   \n",
      "13  This tweet is offensive because it is insultin...   \n",
      "14  This tweet is not offensive as it criticizes a...   \n",
      "15  This tweet is not offensive as it is a factual...   \n",
      "16  This tweet is not offensive as it highlights t...   \n",
      "17  This tweet is not offensive as it is a politic...   \n",
      "18  This tweet is not offensive as it is a factual...   \n",
      "19  This tweet is offensive as it insults the umpi...   \n",
      "20  This tweet is offensive because it uses the wo...   \n",
      "21  This tweet is offensive because it is insultin...   \n",
      "22  This tweet is not offensive as it questions th...   \n",
      "23  This tweet is not offensive as it is a genuine...   \n",
      "24  This tweet is offensive because it contains a ...   \n",
      "25  This tweet is offensive because it is insensit...   \n",
      "26  This tweet is not offensive as it is just an o...   \n",
      "27  This tweet is not offensive as it is a stateme...   \n",
      "28  This tweet is offensive because it is discrimi...   \n",
      "29  This tweet is not offensive as it praises a ne...   \n",
      "30  This tweet is offensive because it advocates f...   \n",
      "31  This tweet is not offensive as it is a sarcast...   \n",
      "32  This tweet is not offensive as it is a request...   \n",
      "33  This tweet is not offensive as it is a stateme...   \n",
      "34  This tweet is offensive because it uses deroga...   \n",
      "35  This tweet is offensive because it is insensit...   \n",
      "36  This tweet is offensive because it is spreadin...   \n",
      "37  This tweet is not offensive as it criticizes a...   \n",
      "38  This tweet is offensive because it is promotin...   \n",
      "39  This tweet is not offensive as it expresses a ...   \n",
      "40  This tweet is offensive as it uses the word \"C...   \n",
      "41  This tweet is not offensive as it is a factual...   \n",
      "42  This tweet is offensive as it is discriminator...   \n",
      "43  This tweet is not offensive as it advocates fo...   \n",
      "44  This tweet is not offensive as it just express...   \n",
      "45  This tweet is not offensive as it criticizes a...   \n",
      "46  This tweet is not offensive as it is against c...   \n",
      "47  This tweet is offensive because it is insultin...   \n",
      "48  This tweet is not offensive as it is a critici...   \n",
      "49  This tweet is offensive because it is insultin...   \n",
      "\n",
      "    corrected_model_responses  offense  \n",
      "0                           0        0  \n",
      "1                           0        0  \n",
      "2                           0        0  \n",
      "3                           0        1  \n",
      "4                           0        0  \n",
      "5                           0        0  \n",
      "6                           0        0  \n",
      "7                           0        1  \n",
      "8                           0        0  \n",
      "9                           0        0  \n",
      "10                          0        1  \n",
      "11                          0        0  \n",
      "12                          0        1  \n",
      "13                          0        0  \n",
      "14                          0        1  \n",
      "15                          0        0  \n",
      "16                          0        0  \n",
      "17                          0        0  \n",
      "18                          0        0  \n",
      "19                          0        1  \n",
      "20                          0        1  \n",
      "21                          0        1  \n",
      "22                          0        0  \n",
      "23                          0        0  \n",
      "24                          0        0  \n",
      "25                          0        1  \n",
      "26                          0        0  \n",
      "27                          0        0  \n",
      "28                          0        0  \n",
      "29                          0        0  \n",
      "30                          0        1  \n",
      "31                          0        0  \n",
      "32                          0        0  \n",
      "33                          0        0  \n",
      "34                          0        1  \n",
      "35                          0        0  \n",
      "36                          0        0  \n",
      "37                          0        0  \n",
      "38                          0        1  \n",
      "39                          0        0  \n",
      "40                          0        1  \n",
      "41                          0        0  \n",
      "42                          0        1  \n",
      "43                          0        0  \n",
      "44                          0        0  \n",
      "45                          0        0  \n",
      "46                          0        1  \n",
      "47                          0        0  \n",
      "48                          0        1  \n",
      "49                          0        0  \n"
     ]
    },
    {
     "name": "stderr",
     "output_type": "stream",
     "text": [
      "\n"
     ]
    }
   ],
   "source": [
    "results_df = test_range(eval_df, prompt_config_cot, prompt_examples_cot, prompt_prefix_cot, prompt_suffix_cot, pre_processing=your_pre_processing_cot, post_processing=your_post_processing_cot, model=model, debug=False)\n",
    "print(results_df)"
   ]
  },
  {
   "cell_type": "code",
   "execution_count": 196,
   "metadata": {},
   "outputs": [],
   "source": [
    "results_df['corrected_model_responses'] = results_df['model_responses'].apply(your_post_processing_cot)"
   ]
  },
  {
   "cell_type": "code",
   "execution_count": 199,
   "metadata": {},
   "outputs": [
    {
     "data": {
      "text/plain": [
       "0.631578947368421"
      ]
     },
     "execution_count": 199,
     "metadata": {},
     "output_type": "execute_result"
    }
   ],
   "source": [
    "f1_score(results_df['offense'], results_df['corrected_model_responses'])"
   ]
  },
  {
   "cell_type": "code",
   "execution_count": null,
   "metadata": {},
   "outputs": [],
   "source": []
  }
 ],
 "metadata": {
  "kernelspec": {
   "display_name": "2590-hw4",
   "language": "python",
   "name": "python3"
  },
  "language_info": {
   "codemirror_mode": {
    "name": "ipython",
    "version": 3
   },
   "file_extension": ".py",
   "mimetype": "text/x-python",
   "name": "python",
   "nbconvert_exporter": "python",
   "pygments_lexer": "ipython3",
   "version": "3.9.7"
  },
  "orig_nbformat": 4
 },
 "nbformat": 4,
 "nbformat_minor": 2
}
