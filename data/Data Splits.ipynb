{
 "cells": [
  {
   "cell_type": "code",
   "execution_count": 1,
   "metadata": {},
   "outputs": [],
   "source": [
    "import re\n",
    "import pandas as pd\n",
    "import numpy as np\n",
    "from sklearn.model_selection import train_test_split"
   ]
  },
  {
   "cell_type": "code",
   "execution_count": 2,
   "metadata": {},
   "outputs": [],
   "source": [
    "scraped_data = pd.read_csv(\"data/filled_10k.csv\")"
   ]
  },
  {
   "cell_type": "code",
   "execution_count": 3,
   "metadata": {},
   "outputs": [
    {
     "name": "stdout",
     "output_type": "stream",
     "text": [
      "Percentage of missing tweets: 14.88%\n",
      "Percentage of missing offensive tweets: 16.70%\n",
      "Percentage of missing non-offensive tweets: 14.07%\n"
     ]
    }
   ],
   "source": [
    "missing_tweets_percentage = scraped_data['tweet_text'].isna().mean() * 100\n",
    "\n",
    "offensive_missing_percentage = scraped_data[scraped_data['offense'] == 1]['tweet_text'].isna().mean() * 100\n",
    "\n",
    "non_offensive_missing_percentage = scraped_data[scraped_data['offense'] == 0]['tweet_text'].isna().mean() * 100\n",
    "\n",
    "print(f\"Percentage of missing tweets: {missing_tweets_percentage:.2f}%\")\n",
    "print(f\"Percentage of missing offensive tweets: {offensive_missing_percentage:.2f}%\")\n",
    "print(f\"Percentage of missing non-offensive tweets: {non_offensive_missing_percentage:.2f}%\")"
   ]
  },
  {
   "cell_type": "markdown",
   "metadata": {},
   "source": [
    "## Preprocess Data"
   ]
  },
  {
   "cell_type": "code",
   "execution_count": 4,
   "metadata": {},
   "outputs": [],
   "source": [
    "def mask_usernames(tweet):\n",
    "    text = re.sub('@[^\\s]+', '@user', tweet)\n",
    "    return text.strip()"
   ]
  },
  {
   "cell_type": "code",
   "execution_count": 5,
   "metadata": {
    "scrolled": false
   },
   "outputs": [
    {
     "name": "stderr",
     "output_type": "stream",
     "text": [
      "/Users/sargunnagpal/miniforge3/lib/python3.9/site-packages/pandas/core/indexing.py:1773: SettingWithCopyWarning: \n",
      "A value is trying to be set on a copy of a slice from a DataFrame.\n",
      "Try using .loc[row_indexer,col_indexer] = value instead\n",
      "\n",
      "See the caveats in the documentation: https://pandas.pydata.org/pandas-docs/stable/user_guide/indexing.html#returning-a-view-versus-a-copy\n",
      "  self._setitem_single_column(ilocs[0], value, pi)\n"
     ]
    }
   ],
   "source": [
    "clean_data = scraped_data[~scraped_data[\"tweet_text\"].isna()]\n",
    "clean_data.loc[:,\"tweet_text\"] = clean_data.loc[:,\"tweet_text\"].apply(mask_usernames)\n",
    "\n",
    "# clean_data[\"tweet_text\"].values.tolist() # Sanity Check"
   ]
  },
  {
   "cell_type": "markdown",
   "metadata": {},
   "source": [
    "## Split Data\n",
    "stratified by 'offense'"
   ]
  },
  {
   "cell_type": "code",
   "execution_count": 6,
   "metadata": {},
   "outputs": [],
   "source": [
    "train_df, temp_df = train_test_split(clean_data, test_size=0.2, random_state=14, stratify=clean_data[\"offense\"])"
   ]
  },
  {
   "cell_type": "code",
   "execution_count": 7,
   "metadata": {},
   "outputs": [],
   "source": [
    "test_df, val_df = train_test_split(temp_df, test_size=0.5, random_state=14, stratify=temp_df[\"offense\"])"
   ]
  },
  {
   "cell_type": "code",
   "execution_count": 8,
   "metadata": {},
   "outputs": [
    {
     "data": {
      "text/plain": [
       "(6809, 851, 852)"
      ]
     },
     "execution_count": 8,
     "metadata": {},
     "output_type": "execute_result"
    }
   ],
   "source": [
    "len_train = len(train_df)\n",
    "len_test = len(test_df)\n",
    "len_val = len(val_df)\n",
    "\n",
    "(len_train, len_test, len_val)"
   ]
  },
  {
   "cell_type": "code",
   "execution_count": 9,
   "metadata": {},
   "outputs": [
    {
     "name": "stdout",
     "output_type": "stream",
     "text": [
      "{0: 4762, 1: 2047}\n",
      "{0: 596, 1: 256}\n",
      "{0: 595, 1: 256}\n"
     ]
    }
   ],
   "source": [
    "# Counts for each class\n",
    "print(train_df[\"offense\"].value_counts().to_dict())\n",
    "print(val_df[\"offense\"].value_counts().to_dict())\n",
    "print(test_df[\"offense\"].value_counts().to_dict())"
   ]
  },
  {
   "cell_type": "markdown",
   "metadata": {},
   "source": [
    "## Export"
   ]
  },
  {
   "cell_type": "code",
   "execution_count": 10,
   "metadata": {},
   "outputs": [],
   "source": [
    "train_df.to_csv(\"data/splits/train.csv\", index=False)\n",
    "test_df.to_csv(\"data/splits/test.csv\", index=False)\n",
    "val_df.to_csv(\"data/splits/val.csv\", index=False)"
   ]
  }
 ],
 "metadata": {
  "kernelspec": {
   "display_name": "Python 3.9.7 ('base')",
   "language": "python",
   "name": "python397jvsc74a57bd093b370e0584f6107048b5d61721771977dbf0477204175aefccfa9d666663ac5"
  },
  "language_info": {
   "codemirror_mode": {
    "name": "ipython",
    "version": 3
   },
   "file_extension": ".py",
   "mimetype": "text/x-python",
   "name": "python",
   "nbconvert_exporter": "python",
   "pygments_lexer": "ipython3",
   "version": "3.9.7"
  }
 },
 "nbformat": 4,
 "nbformat_minor": 4
}
