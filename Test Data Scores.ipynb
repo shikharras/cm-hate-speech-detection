{
 "cells": [
  {
   "cell_type": "code",
   "execution_count": 1,
   "metadata": {},
   "outputs": [],
   "source": [
    "import os\n",
    "import pickle\n",
    "import numpy as np\n",
    "import pandas as pd"
   ]
  },
  {
   "cell_type": "code",
   "execution_count": 6,
   "metadata": {},
   "outputs": [],
   "source": [
    "models = [\"hing-roberta\", \"hing-roberta-mixed\", \"xlm-roberta-base\"]\n",
    "num_runs = 5"
   ]
  },
  {
   "cell_type": "code",
   "execution_count": 7,
   "metadata": {},
   "outputs": [],
   "source": [
    "# with open(f\"./data/predictions/xlm-roberta-base_run1.pickle\", \"rb\") as f:\n",
    "#     res = pickle.load(f)\n",
    "# res"
   ]
  },
  {
   "cell_type": "code",
   "execution_count": 8,
   "metadata": {},
   "outputs": [
    {
     "name": "stderr",
     "output_type": "stream",
     "text": [
      "/state/partition1/job-40210564/ipykernel_293664/1248792795.py:20: FutureWarning: DataFrame.applymap has been deprecated. Use DataFrame.map instead.\n",
      "  results = models_means.applymap(lambda x: str(round(x,2)))+' ± '+models_stds.applymap(lambda x: str(round(x,3)))\n"
     ]
    },
    {
     "data": {
      "text/html": [
       "<div>\n",
       "<style scoped>\n",
       "    .dataframe tbody tr th:only-of-type {\n",
       "        vertical-align: middle;\n",
       "    }\n",
       "\n",
       "    .dataframe tbody tr th {\n",
       "        vertical-align: top;\n",
       "    }\n",
       "\n",
       "    .dataframe thead th {\n",
       "        text-align: right;\n",
       "    }\n",
       "</style>\n",
       "<table border=\"1\" class=\"dataframe\">\n",
       "  <thead>\n",
       "    <tr style=\"text-align: right;\">\n",
       "      <th></th>\n",
       "      <th>hing-roberta</th>\n",
       "      <th>hing-roberta-mixed</th>\n",
       "      <th>xlm-roberta-base</th>\n",
       "    </tr>\n",
       "  </thead>\n",
       "  <tbody>\n",
       "    <tr>\n",
       "      <th>monolingual</th>\n",
       "      <td>0.66 ± 0.014</td>\n",
       "      <td>0.64 ± 0.01</td>\n",
       "      <td>0.12 ± 0.272</td>\n",
       "    </tr>\n",
       "    <tr>\n",
       "      <th>codemixed</th>\n",
       "      <td>0.78 ± 0.008</td>\n",
       "      <td>0.74 ± 0.012</td>\n",
       "      <td>0.14 ± 0.317</td>\n",
       "    </tr>\n",
       "    <tr>\n",
       "      <th>overall</th>\n",
       "      <td>0.73 ± 0.011</td>\n",
       "      <td>0.7 ± 0.011</td>\n",
       "      <td>0.13 ± 0.3</td>\n",
       "    </tr>\n",
       "  </tbody>\n",
       "</table>\n",
       "</div>"
      ],
      "text/plain": [
       "             hing-roberta hing-roberta-mixed xlm-roberta-base\n",
       "monolingual  0.66 ± 0.014        0.64 ± 0.01     0.12 ± 0.272\n",
       "codemixed    0.78 ± 0.008       0.74 ± 0.012     0.14 ± 0.317\n",
       "overall      0.73 ± 0.011        0.7 ± 0.011       0.13 ± 0.3"
      ]
     },
     "execution_count": 8,
     "metadata": {},
     "output_type": "execute_result"
    }
   ],
   "source": [
    "all_model_means = []\n",
    "all_model_stds = []\n",
    "\n",
    "for model in models:\n",
    "    model_res = []\n",
    "    \n",
    "    for i in range(1, num_runs+1):\n",
    "        with open(f\"./data/predictions/{model}_run{i}.pickle\", \"rb\") as f:\n",
    "            res = pickle.load(f)\n",
    "        model_res.append(res)\n",
    "    \n",
    "    model_res = pd.DataFrame(model_res)\n",
    "    model_mean_df = pd.DataFrame(model_res.mean(axis=0), columns=[model])\n",
    "    model_std_df = pd.DataFrame(model_res.std(ddof=1, axis=0), columns=[model])\n",
    "    all_model_means.append(model_mean_df)\n",
    "    all_model_stds.append(model_std_df)\n",
    "    \n",
    "models_means = pd.concat(all_model_means, axis=1)\n",
    "models_stds = pd.concat(all_model_stds, axis=1)\n",
    "results = models_means.applymap(lambda x: str(round(x,2)))+' ± '+models_stds.applymap(lambda x: str(round(x,3)))\n",
    "results"
   ]
  },
  {
   "cell_type": "code",
   "execution_count": 9,
   "metadata": {},
   "outputs": [],
   "source": [
    "results.to_csv(\"./data/predictions/overall.csv\")"
   ]
  },
  {
   "cell_type": "code",
   "execution_count": null,
   "metadata": {},
   "outputs": [],
   "source": []
  }
 ],
 "metadata": {
  "kernelspec": {
   "display_name": "owl-botu",
   "language": "python",
   "name": "owl-botu"
  },
  "language_info": {
   "codemirror_mode": {
    "name": "ipython",
    "version": 3
   },
   "file_extension": ".py",
   "mimetype": "text/x-python",
   "name": "python",
   "nbconvert_exporter": "python",
   "pygments_lexer": "ipython3",
   "version": "3.10.13"
  }
 },
 "nbformat": 4,
 "nbformat_minor": 4
}
