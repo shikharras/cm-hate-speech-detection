{
 "cells": [
  {
   "cell_type": "code",
   "execution_count": 1,
   "metadata": {},
   "outputs": [],
   "source": [
    "import pandas as pd\n",
    "import numpy as np"
   ]
  },
  {
   "cell_type": "code",
   "execution_count": 2,
   "metadata": {},
   "outputs": [],
   "source": [
    "scraped_data = pd.read_csv(\"data/filled_10k.csv\")"
   ]
  },
  {
   "cell_type": "code",
   "execution_count": 30,
   "metadata": {},
   "outputs": [
    {
     "name": "stdout",
     "output_type": "stream",
     "text": [
      "Percentage of missing tweets: 14.88%\n",
      "Percentage of missing offensive tweets: 16.70%\n",
      "Percentage of missing non-offensive tweets: 14.07%\n"
     ]
    }
   ],
   "source": [
    "missing_tweets_percentage = scraped_data['tweet_text'].isna().mean() * 100\n",
    "\n",
    "offensive_missing_percentage = scraped_data[scraped_data['offense'] == 1]['tweet_text'].isna().mean() * 100\n",
    "\n",
    "non_offensive_missing_percentage = scraped_data[scraped_data['offense'] == 0]['tweet_text'].isna().mean() * 100\n",
    "\n",
    "print(f\"Percentage of missing tweets: {missing_tweets_percentage:.2f}%\")\n",
    "print(f\"Percentage of missing offensive tweets: {offensive_missing_percentage:.2f}%\")\n",
    "print(f\"Percentage of missing non-offensive tweets: {non_offensive_missing_percentage:.2f}%\")"
   ]
  },
  {
   "cell_type": "code",
   "execution_count": 31,
   "metadata": {
    "scrolled": false
   },
   "outputs": [],
   "source": [
    "clean_data = scraped_data[~scraped_data[\"tweet_text\"].isna()]"
   ]
  },
  {
   "cell_type": "code",
   "execution_count": 32,
   "metadata": {},
   "outputs": [],
   "source": [
    "from sklearn.model_selection import train_test_split"
   ]
  },
  {
   "cell_type": "code",
   "execution_count": 33,
   "metadata": {},
   "outputs": [],
   "source": [
    "train_df, temp_df = train_test_split(clean_data, test_size=0.2, random_state=14)"
   ]
  },
  {
   "cell_type": "code",
   "execution_count": 34,
   "metadata": {},
   "outputs": [],
   "source": [
    "test_df, val_df = train_test_split(temp_df, test_size=0.5, random_state=14)"
   ]
  },
  {
   "cell_type": "code",
   "execution_count": 35,
   "metadata": {},
   "outputs": [
    {
     "data": {
      "text/plain": [
       "(6809, 851, 852)"
      ]
     },
     "execution_count": 35,
     "metadata": {},
     "output_type": "execute_result"
    }
   ],
   "source": [
    "len_train = len(train_df)\n",
    "len_test = len(test_df)\n",
    "len_val = len(val_df)\n",
    "\n",
    "(len_train, len_test, len_val)"
   ]
  },
  {
   "cell_type": "code",
   "execution_count": 38,
   "metadata": {},
   "outputs": [],
   "source": [
    "train_df.to_csv(\"data/splits/train.csv\", index=False)\n",
    "test_df.to_csv(\"data/splits/test.csv\", index=False)\n",
    "val_df.to_csv(\"data/splits/val.csv\", index=False)"
   ]
  }
 ],
 "metadata": {
  "kernelspec": {
   "display_name": "OWL (Steve Bottos)",
   "language": "python",
   "name": "owl_boto"
  },
  "language_info": {
   "codemirror_mode": {
    "name": "ipython",
    "version": 3
   },
   "file_extension": ".py",
   "mimetype": "text/x-python",
   "name": "python",
   "nbconvert_exporter": "python",
   "pygments_lexer": "ipython3",
   "version": "3.10.13"
  }
 },
 "nbformat": 4,
 "nbformat_minor": 4
}
